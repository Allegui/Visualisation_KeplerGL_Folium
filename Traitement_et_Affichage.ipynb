{
 "cells": [
  {
   "cell_type": "code",
   "execution_count": null,
   "id": "875cc650",
   "metadata": {},
   "outputs": [],
   "source": [
    "pip install geopandas"
   ]
  },
  {
   "cell_type": "code",
   "execution_count": null,
   "id": "5c002725",
   "metadata": {},
   "outputs": [],
   "source": [
    "pip install missingno"
   ]
  },
  {
   "cell_type": "code",
   "execution_count": null,
   "id": "646190ab",
   "metadata": {},
   "outputs": [],
   "source": [
    "import geopandas as gpd\n",
    "import pandas as pd\n",
    "import missingno as msno\n",
    "import seaborn as sns\n",
    "import matplotlib.pyplot as plt\n",
    "\n",
    "pd.set_option('display.max_rows', None)\n",
    "pd.set_option('display.max_columns', None)"
   ]
  },
  {
   "cell_type": "markdown",
   "id": "b6faf4f0",
   "metadata": {},
   "source": [
    "## Import des bases de données"
   ]
  },
  {
   "cell_type": "markdown",
   "id": "1f5359a2",
   "metadata": {},
   "source": [
    "### TRI (Scénarios Décénal, Centenal, Millénal)"
   ]
  },
  {
   "cell_type": "code",
   "execution_count": null,
   "id": "22e4012e",
   "metadata": {},
   "outputs": [],
   "source": [
    "# import modules\n",
    "import os\n",
    "\n",
    "# assign path\n",
    "path, dirs, files = next(os.walk(\"/Users/guillaumeallemoniere/Documents/Documents/Jupyter_Notebooks/Cartes_Innondations_VAR/fichiers/\"))\n",
    "# files.remove('.DS_Store')   Rajouter cette commande si le fichier .DS_Store zest présent dans la liste intitulée \"files\"\n",
    "file_count = len(files)\n",
    "\n",
    "dataset_a_supprimer = []\n",
    "\n",
    "for i in range(file_count):\n",
    "    if not files[i].endswith(\".dbf\"):\n",
    "        dataset_a_supprimer.append(files[i])\n",
    "\n",
    "for dataset in dataset_a_supprimer:\n",
    "    files.remove(dataset)\n",
    "\n",
    "\n",
    "# create empty list\n",
    "dataframes_list = []\n",
    "\n",
    "file_count = len(files)\n",
    "\n",
    "# append datasets to the list\n",
    "for i in range(file_count):\n",
    "    temp_df = gpd.read_file(\"/Users/guillaumeallemoniere/Documents/Documents/Jupyter_Notebooks/Cartes_Innondations_VAR/fichiers/\"+files[i])\n",
    "    dataframes_list.append(temp_df)"
   ]
  },
  {
   "cell_type": "code",
   "execution_count": null,
   "id": "5584157a",
   "metadata": {},
   "outputs": [],
   "source": [
    "dataset_n_tri_toulon_inondable = []\n",
    "dataset_n_tri_toulon_iso = []\n",
    "dataset_n_tri_toulon_enjeu = []\n",
    "dataset_n_autres = []\n",
    "\n",
    "\n",
    "for i in range(len(files)):\n",
    "    if files[i].startswith(\"n_tri_toulon_inondable\") == True:\n",
    "        dataset_n_tri_toulon_inondable.append(files[i])\n",
    "    elif files[i].startswith(\"n_tri_toulon_iso\") == True:\n",
    "        dataset_n_tri_toulon_iso.append(files[i])\n",
    "    elif files[i].startswith(\"n_tri_toulon_enjeu\") == True:\n",
    "        dataset_n_tri_toulon_enjeu.append(files[i])\n",
    "    else:\n",
    "        dataset_n_autres.append(files[i])"
   ]
  },
  {
   "cell_type": "code",
   "execution_count": null,
   "id": "8eed9186",
   "metadata": {},
   "outputs": [],
   "source": [
    "# display datasets\n",
    "for (name,dataset) in zip(files,dataframes_list):\n",
    "    print(\"Nom du dataset: \", name)\n",
    "    display(dataset.head(0))\n",
    "    print(\"\\n\\n\")"
   ]
  },
  {
   "cell_type": "code",
   "execution_count": null,
   "id": "48a102d6",
   "metadata": {},
   "outputs": [],
   "source": [
    "# display datasets\n",
    "for (name,dataset) in zip(files,dataframes_list):\n",
    "    if name in dataset_n_tri_toulon_iso:\n",
    "        print(\"Nom du dataset: \", name)\n",
    "        display(dataset.head(0))\n",
    "        print(\"\\n\\n\")"
   ]
  },
  {
   "cell_type": "code",
   "execution_count": null,
   "id": "d54442ff",
   "metadata": {},
   "outputs": [],
   "source": [
    "Data = pd.DataFrame({'uuid':[], 'id':[], 'id_zone':[], 'id_s_inond':[], 'typ_inond':[], 'typ_inond2':[],\n",
    "       'scenario':[], 'datentree':[], 'datsortie':[], 'ht_min':[], 'ht_max':[], 'est_ref':[],\n",
    "       'cours_deau':[], 'id_tri':[], 'geometry':[]})"
   ]
  },
  {
   "cell_type": "code",
   "execution_count": null,
   "id": "17266786",
   "metadata": {},
   "outputs": [],
   "source": [
    "Data"
   ]
  },
  {
   "cell_type": "code",
   "execution_count": null,
   "id": "f025e111",
   "metadata": {},
   "outputs": [],
   "source": [
    "for (name,dataset) in zip(files,dataframes_list):\n",
    "    if (name in dataset_n_tri_toulon_iso): \n",
    "        Data = pd.concat([Data,dataset])"
   ]
  },
  {
   "cell_type": "code",
   "execution_count": null,
   "id": "fa5702fc",
   "metadata": {},
   "outputs": [],
   "source": [
    "Data.head()"
   ]
  },
  {
   "cell_type": "code",
   "execution_count": null,
   "id": "fefc0f36",
   "metadata": {},
   "outputs": [],
   "source": [
    "len(Data)"
   ]
  },
  {
   "cell_type": "code",
   "execution_count": null,
   "id": "1c5bd7d5",
   "metadata": {},
   "outputs": [],
   "source": [
    "msno.bar(Data)"
   ]
  },
  {
   "cell_type": "code",
   "execution_count": null,
   "id": "1ebb1a2c",
   "metadata": {},
   "outputs": [],
   "source": [
    "Data_ISO = Data.drop(columns=['typ_inond2', 'datentree', 'datsortie'])"
   ]
  },
  {
   "cell_type": "code",
   "execution_count": null,
   "id": "13a2432b",
   "metadata": {},
   "outputs": [],
   "source": [
    "msno.bar(Data_ISO)"
   ]
  },
  {
   "cell_type": "markdown",
   "id": "e2a527a1",
   "metadata": {},
   "source": [
    "#### Transform a pandas dataframe to a geopandas dataframe"
   ]
  },
  {
   "cell_type": "code",
   "execution_count": null,
   "id": "d9b25917",
   "metadata": {},
   "outputs": [],
   "source": [
    "# from shapely import wkt\n",
    "# Data_ISO['geometry']= gpd.GeoSeries.from_wkt(Data_ISO['geometry'])\n",
    "\n",
    "# Voir le site: https://geopandas.org/en/stable/gallery/create_geopandas_from_pandas.html\n",
    "\n",
    "# Ici, on transforme le pandas dataframes en geopanda data frame\n",
    "\n",
    "Data_ISO_gdf = gpd.GeoDataFrame(Data_ISO, geometry='geometry')"
   ]
  },
  {
   "cell_type": "code",
   "execution_count": null,
   "id": "7fe24fd2",
   "metadata": {},
   "outputs": [],
   "source": [
    "print(Data_ISO_gdf.crs)"
   ]
  },
  {
   "cell_type": "code",
   "execution_count": null,
   "id": "9c01f2ed",
   "metadata": {},
   "outputs": [],
   "source": [
    "Data_ISO_gdf.crs is None"
   ]
  },
  {
   "cell_type": "markdown",
   "id": "6512b949",
   "metadata": {},
   "source": [
    "##### Set the correct epsg for the geometry to be correctly mapped later"
   ]
  },
  {
   "cell_type": "code",
   "execution_count": null,
   "id": "883cb08a",
   "metadata": {},
   "outputs": [],
   "source": [
    "# Set epsg to 2154 (RGF93 / Lambert-93, spatial reference for France)\n",
    "\n",
    "Data_ISO_gdf['geometry'] = Data_ISO_gdf['geometry'].set_crs('epsg:2154')"
   ]
  },
  {
   "cell_type": "code",
   "execution_count": null,
   "id": "f1494f3c",
   "metadata": {},
   "outputs": [],
   "source": [
    "Data_ISO_gdf.crs"
   ]
  },
  {
   "cell_type": "code",
   "execution_count": null,
   "id": "ab0f45fc",
   "metadata": {},
   "outputs": [],
   "source": [
    "Data_ISO_gdf.head()"
   ]
  },
  {
   "cell_type": "code",
   "execution_count": null,
   "id": "f4f54ab4",
   "metadata": {},
   "outputs": [],
   "source": [
    "# Move epsg to 4326 (WGS84, spatial reference for the world)\n",
    "\n",
    "Data_ISO_gdf['geometry'] = Data_ISO_gdf['geometry'].to_crs('epsg:4326')"
   ]
  },
  {
   "cell_type": "code",
   "execution_count": null,
   "id": "2ef0c5b7",
   "metadata": {},
   "outputs": [],
   "source": [
    "Data_ISO_gdf = Data_ISO_gdf.reset_index(level=0)"
   ]
  },
  {
   "cell_type": "code",
   "execution_count": null,
   "id": "58763db9",
   "metadata": {},
   "outputs": [],
   "source": [
    "Data_ISO_gdf.head()"
   ]
  },
  {
   "cell_type": "markdown",
   "id": "f5b84c03",
   "metadata": {},
   "source": [
    "#### Création de 3 dataframe pour les 3 scénarios (Décénal, Centenal, Millénal)"
   ]
  },
  {
   "cell_type": "code",
   "execution_count": null,
   "id": "6831a809",
   "metadata": {},
   "outputs": [],
   "source": [
    "Data_ISO_gdf['scenario'].unique()"
   ]
  },
  {
   "cell_type": "code",
   "execution_count": null,
   "id": "04d441fa",
   "metadata": {},
   "outputs": [],
   "source": [
    "def scenario(a):\n",
    "    if (a=='01For'):\n",
    "        return 1\n",
    "    elif (a=='02Moy'):\n",
    "        return 2\n",
    "    elif (a=='04Fai'):\n",
    "        return 3\n",
    "    else:\n",
    "        return 2"
   ]
  },
  {
   "cell_type": "code",
   "execution_count": null,
   "id": "0ba5660e",
   "metadata": {},
   "outputs": [],
   "source": [
    "Data_ISO_gdf['scenario_2'] = list(map(scenario,Data_ISO_gdf['scenario']))"
   ]
  },
  {
   "cell_type": "code",
   "execution_count": null,
   "id": "bd5ba014",
   "metadata": {},
   "outputs": [],
   "source": [
    "Data_ISO_gdf.head()"
   ]
  },
  {
   "cell_type": "code",
   "execution_count": null,
   "id": "48a95ec2",
   "metadata": {},
   "outputs": [],
   "source": [
    "Data_ISO_gdf['scenario_2'].unique()"
   ]
  },
  {
   "cell_type": "code",
   "execution_count": null,
   "id": "321268f7",
   "metadata": {},
   "outputs": [],
   "source": [
    "Data_ISO_gdf_Dec = Data_ISO_gdf.loc[Data_ISO_gdf['scenario_2']==1,]\n",
    "Data_ISO_gdf_Cent = Data_ISO_gdf.loc[Data_ISO_gdf['scenario_2']==2,]\n",
    "Data_ISO_gdf_Mill = Data_ISO_gdf.loc[Data_ISO_gdf['scenario_2']==3,]"
   ]
  },
  {
   "cell_type": "code",
   "execution_count": null,
   "id": "3565d2ed",
   "metadata": {},
   "outputs": [],
   "source": [
    "# Export to csv\n",
    "\n",
    "Data_ISO_gdf.to_csv('Data.csv')\n",
    "Data_ISO_gdf_Dec.to_csv('Data_Dec.csv')\n",
    "Data_ISO_gdf_Cent.to_csv('Data_Cent.csv')\n",
    "Data_ISO_gdf_Mill.to_csv('Data_Mill.csv')"
   ]
  },
  {
   "cell_type": "markdown",
   "id": "4034b787",
   "metadata": {},
   "source": [
    "### PPRN (en complément des TRI importés plus haut)"
   ]
  },
  {
   "cell_type": "code",
   "execution_count": null,
   "id": "1a7b50bc",
   "metadata": {},
   "outputs": [],
   "source": [
    "zone_pprn = gpd.read_file(\"/Users/guillaumeallemoniere/Documents/Documents/Jupyter_Notebooks/Cartes_Innondations_VAR/fichier_pprn_83/n_zonages_risque_naturel/zone_pprn_s_083.dbf\")"
   ]
  },
  {
   "cell_type": "code",
   "execution_count": null,
   "id": "195cb810",
   "metadata": {},
   "outputs": [],
   "source": [
    "zone_pprn.head()"
   ]
  },
  {
   "cell_type": "markdown",
   "id": "9a35d708",
   "metadata": {},
   "source": [
    "#### Import de la base contenant les id GASPAR pour faire le lien avec les PPRN et identifier les types de rsiques (Inondations, Débordement, etc...)"
   ]
  },
  {
   "cell_type": "code",
   "execution_count": null,
   "id": "bf66e87b",
   "metadata": {},
   "outputs": [],
   "source": [
    "gaspar = pd.read_excel('GASPAR_PPRN_2.xlsx',sheet_name='Sheet_1')\n",
    "gaspar = gaspar.rename(columns={\"cod_nat_pprn\": \"id_gaspar\"})\n",
    "gaspar[\"Compte\"]=1"
   ]
  },
  {
   "cell_type": "code",
   "execution_count": null,
   "id": "8250ce66",
   "metadata": {},
   "outputs": [],
   "source": [
    "gaspar.head()"
   ]
  },
  {
   "cell_type": "code",
   "execution_count": null,
   "id": "5b525a7b",
   "metadata": {},
   "outputs": [],
   "source": [
    "def est_dans_zone_pprn(a):\n",
    "    return a in list(zone_pprn[\"id_gaspar\"])"
   ]
  },
  {
   "cell_type": "code",
   "execution_count": null,
   "id": "212aca2f",
   "metadata": {},
   "outputs": [],
   "source": [
    "gaspar[\"est_dans_pprn\"] = list(map(est_dans_zone_pprn,gaspar[\"id_gaspar\"]))"
   ]
  },
  {
   "cell_type": "code",
   "execution_count": null,
   "id": "62cb5026",
   "metadata": {},
   "outputs": [],
   "source": [
    "gaspar.head()"
   ]
  },
  {
   "cell_type": "code",
   "execution_count": null,
   "id": "4582827f",
   "metadata": {},
   "outputs": [],
   "source": [
    "gaspar = gaspar.loc[(gaspar[\"est_dans_pprn\"] == True),]"
   ]
  },
  {
   "cell_type": "code",
   "execution_count": null,
   "id": "37435729",
   "metadata": {},
   "outputs": [],
   "source": [
    "# À présent la base gaspar contient les mêmes dentifiants (id_gaspar) que dans la base des PPRN\n",
    "# Ce qui sera très utile pour identifier les types de risques de la base des PPRN (grâce à la fonction merge() de pandas)\n",
    "# et retenir seulement les risques qui nous intéressent.\n",
    "\n",
    "gaspar"
   ]
  },
  {
   "cell_type": "markdown",
   "id": "425edd84",
   "metadata": {},
   "source": [
    "##### Suppression des lignes répétées dans la base"
   ]
  },
  {
   "cell_type": "code",
   "execution_count": null,
   "id": "76ae1732",
   "metadata": {},
   "outputs": [],
   "source": [
    "gaspar = gaspar.groupby([\"id_gaspar\",\"lib_risque\",\"est_dans_pprn\"]).agg({\"Compte\":\"sum\"})"
   ]
  },
  {
   "cell_type": "code",
   "execution_count": null,
   "id": "38db90b9",
   "metadata": {},
   "outputs": [],
   "source": [
    "gaspar"
   ]
  },
  {
   "cell_type": "code",
   "execution_count": null,
   "id": "c31886d3",
   "metadata": {},
   "outputs": [],
   "source": [
    "gaspar = gaspar.reset_index(level=['id_gaspar','lib_risque','est_dans_pprn'])"
   ]
  },
  {
   "cell_type": "code",
   "execution_count": null,
   "id": "170231a7",
   "metadata": {},
   "outputs": [],
   "source": [
    "gaspar"
   ]
  },
  {
   "cell_type": "code",
   "execution_count": null,
   "id": "2b35594d",
   "metadata": {},
   "outputs": [],
   "source": [
    "gaspar[\"lib_risque\"].unique()"
   ]
  },
  {
   "cell_type": "code",
   "execution_count": null,
   "id": "0489726b",
   "metadata": {},
   "outputs": [],
   "source": [
    "def last_element(x):\n",
    "    return ', '.join(x).split(\", \")[-1]"
   ]
  },
  {
   "cell_type": "code",
   "execution_count": null,
   "id": "923127ed",
   "metadata": {},
   "outputs": [],
   "source": [
    "gaspar = gaspar.groupby([\"id_gaspar\"]).agg({\"lib_risque\":last_element})\n",
    "gaspar = gaspar.loc[(gaspar[\"lib_risque\"]!=\"Mouvement de terrain\") & (gaspar[\"lib_risque\"]!=\"Feu de for√™t\"),]\n",
    "gaspar = gaspar.reset_index(level=['id_gaspar'])\n",
    "gaspar"
   ]
  },
  {
   "cell_type": "code",
   "execution_count": null,
   "id": "86ac4c1f",
   "metadata": {},
   "outputs": [],
   "source": [
    "donnees_pprn = pd.merge(zone_pprn, gaspar, on=\"id_gaspar\")"
   ]
  },
  {
   "cell_type": "code",
   "execution_count": null,
   "id": "c43ef3e8",
   "metadata": {},
   "outputs": [],
   "source": [
    "donnees_pprn.head()"
   ]
  },
  {
   "cell_type": "code",
   "execution_count": null,
   "id": "397b6653",
   "metadata": {},
   "outputs": [],
   "source": [
    "len(donnees_pprn)"
   ]
  },
  {
   "cell_type": "code",
   "execution_count": null,
   "id": "e99d3fad",
   "metadata": {},
   "outputs": [],
   "source": [
    "len(zone_pprn)"
   ]
  },
  {
   "cell_type": "code",
   "execution_count": null,
   "id": "657498b8",
   "metadata": {},
   "outputs": [],
   "source": [
    "# On voit que la taille de la base des PPRN a diminué suite à nos manipulations avec la base des id_gaspar\n",
    "# (792 vs 560 lignes)"
   ]
  },
  {
   "cell_type": "code",
   "execution_count": null,
   "id": "834fcdaa",
   "metadata": {},
   "outputs": [],
   "source": [
    "zone_pprn = donnees_pprn"
   ]
  },
  {
   "cell_type": "code",
   "execution_count": null,
   "id": "4203167f",
   "metadata": {},
   "outputs": [],
   "source": [
    "zone_pprn.head()"
   ]
  },
  {
   "cell_type": "markdown",
   "id": "c9bcf1b8",
   "metadata": {},
   "source": [
    "##### Set the correct epsg for the geometry to be correctly mapped later"
   ]
  },
  {
   "cell_type": "code",
   "execution_count": null,
   "id": "4c19ebec",
   "metadata": {},
   "outputs": [],
   "source": [
    "zone_pprn.crs"
   ]
  },
  {
   "cell_type": "code",
   "execution_count": null,
   "id": "0410ad3d",
   "metadata": {},
   "outputs": [],
   "source": [
    "# Set epsg to 4326 (WGS84, spatial reference for the world)\n",
    "\n",
    "zone_pprn['geometry'] = zone_pprn['geometry'].to_crs('epsg:4326')"
   ]
  },
  {
   "cell_type": "code",
   "execution_count": null,
   "id": "88e8e22c",
   "metadata": {},
   "outputs": [],
   "source": [
    "msno.bar(zone_pprn)"
   ]
  },
  {
   "cell_type": "code",
   "execution_count": null,
   "id": "a5c37208",
   "metadata": {},
   "outputs": [],
   "source": [
    "zone_pprn.loc[zone_pprn['codezone'].isnull(),]"
   ]
  },
  {
   "cell_type": "code",
   "execution_count": null,
   "id": "5015c4c5",
   "metadata": {},
   "outputs": [],
   "source": [
    "zone_pprn = zone_pprn.drop(columns=['urlfic', 'srce_annee'])"
   ]
  },
  {
   "cell_type": "code",
   "execution_count": null,
   "id": "e0e88ad8",
   "metadata": {},
   "outputs": [],
   "source": [
    "msno.bar(zone_pprn)"
   ]
  },
  {
   "cell_type": "code",
   "execution_count": null,
   "id": "5c19d540",
   "metadata": {},
   "outputs": [],
   "source": [
    "zone_pprn = zone_pprn.dropna(subset=['nom', 'codezone'])"
   ]
  },
  {
   "cell_type": "code",
   "execution_count": null,
   "id": "86b2b944",
   "metadata": {},
   "outputs": [],
   "source": [
    "msno.bar(zone_pprn)"
   ]
  },
  {
   "cell_type": "code",
   "execution_count": null,
   "id": "5494ee81",
   "metadata": {},
   "outputs": [],
   "source": [
    "zone_pprn.head()"
   ]
  },
  {
   "cell_type": "code",
   "execution_count": null,
   "id": "07688466",
   "metadata": {},
   "outputs": [],
   "source": [
    "zone_pprn[\"codezone\"].unique()"
   ]
  },
  {
   "cell_type": "markdown",
   "id": "e889fa68",
   "metadata": {},
   "source": [
    "#### Création de 10 dataframes pour les 10 codes"
   ]
  },
  {
   "cell_type": "code",
   "execution_count": null,
   "id": "ab8e68de",
   "metadata": {},
   "outputs": [],
   "source": [
    "zone_pprn_Zone_rouge = zone_pprn.loc[zone_pprn['codezone']=='Zone rouge',]\n",
    "zone_pprn_B1 = zone_pprn.loc[zone_pprn['codezone']=='B1',]\n",
    "zone_pprn_B2 = zone_pprn.loc[zone_pprn['codezone']=='B2',]\n",
    "zone_pprn_ZBH = zone_pprn.loc[zone_pprn['codezone']=='ZBH',]\n",
    "zone_pprn_ZH = zone_pprn.loc[zone_pprn['codezone']=='ZH',]\n",
    "zone_pprn_NR = zone_pprn.loc[zone_pprn['codezone']=='NR',]\n",
    "zone_pprn_Alea_exceptionnel = zone_pprn.loc[zone_pprn['codezone']=='Alea exceptionnel',]\n",
    "zone_pprn_B3 = zone_pprn.loc[zone_pprn['codezone']=='B3',]\n",
    "zone_pprn_R1 = zone_pprn.loc[zone_pprn['codezone']=='R1',]\n",
    "zone_pprn_R2 = zone_pprn.loc[zone_pprn['codezone']=='R2',]"
   ]
  },
  {
   "cell_type": "code",
   "execution_count": null,
   "id": "2ff48d93",
   "metadata": {},
   "outputs": [],
   "source": [
    "zone_pprn[\"lib_risque\"].unique()"
   ]
  },
  {
   "cell_type": "markdown",
   "id": "dca707f2",
   "metadata": {},
   "source": [
    "### Kepler Gl"
   ]
  },
  {
   "cell_type": "markdown",
   "id": "79c3c048",
   "metadata": {},
   "source": [
    "###### ATTENTION ! pour la partie portant sur la visualisation avec kepler.gl il est nécessaire d'installer certains packages notamment certains widgets pour pouvoir afficher la carte correctement.\n",
    "\n",
    "###### Les liens utilisés pour l'installation de ces packages sont les suivants:\n",
    "https://towardsdatascience.com/kepler-gl-jupyter-notebooks-geospatial-data-visualization-with-ubers-opensource-kepler-gl-b1c2423d066f (voir la partie installation tout en bas de la page)\n",
    "\n",
    "https://jupyter-contrib-nbextensions.readthedocs.io/en/latest/install.html\n",
    "\n",
    "\n",
    "https://stackoverflow.com/questions/57352649/installing-jupyter-extension-failure-to-enable-nbextension"
   ]
  },
  {
   "cell_type": "code",
   "execution_count": null,
   "id": "862c1c55",
   "metadata": {},
   "outputs": [],
   "source": [
    "# Voir le lien: \n",
    "# https://towardsdatascience.com/kepler-gl-jupyter-notebooks-geospatial-data-visualization-with-ubers-opensource-kepler-gl-b1c2423d066f\n",
    "\n",
    "# Si la commande \"pip install\" ne fonctionne pas penser à écrire \"!pip install\" pour installer le package voulu.\n",
    "# Voir le lien: https://stackoverflow.com/questions/45767252/cant-use-pip-in-jupyter-notebook\n",
    "\n",
    "!pip install ipywidgets"
   ]
  },
  {
   "cell_type": "code",
   "execution_count": null,
   "id": "9cb0d4bc",
   "metadata": {},
   "outputs": [],
   "source": [
    "# Voir le lien\n",
    "# https://towardsdatascience.com/kepler-gl-jupyter-notebooks-geospatial-data-visualization-with-ubers-opensource-kepler-gl-b1c2423d066f\n",
    "\n",
    "# Si la commande \"pip install\" ne fonctionne pas penser à écrire \"!pip install\" pour installer le package voulu.\n",
    "# Voir le lien: https://stackoverflow.com/questions/45767252/cant-use-pip-in-jupyter-notebook\n",
    "\n",
    "!pip install keplergl"
   ]
  },
  {
   "cell_type": "code",
   "execution_count": null,
   "id": "557b7a80",
   "metadata": {},
   "outputs": [],
   "source": [
    "# Pour voir la liste des packages installés: !pip list\n",
    "\n",
    "# Pour supprimer un package installé: !pip uninstall -y keplergl"
   ]
  },
  {
   "cell_type": "code",
   "execution_count": null,
   "id": "70d83492",
   "metadata": {},
   "outputs": [],
   "source": [
    "# Voir le lien\n",
    "# https://jupyter-contrib-nbextensions.readthedocs.io/en/latest/install.html\n",
    "\n",
    "# Si la commande \"pip install\" ne fonctionne pas penser à écrire \"!pip install\" pour installer le package voulu.\n",
    "# Voir le lien: https://stackoverflow.com/questions/45767252/cant-use-pip-in-jupyter-notebook\n",
    "\n",
    "!pip install jupyter_contrib_nbextensions"
   ]
  },
  {
   "cell_type": "code",
   "execution_count": null,
   "id": "2a1fc23e",
   "metadata": {},
   "outputs": [],
   "source": [
    "# Voir les liens\n",
    "# https://jupyter-contrib-nbextensions.readthedocs.io/en/latest/install.html\n",
    "# https://stackoverflow.com/questions/57352649/installing-jupyter-extension-failure-to-enable-nbextension\n",
    "\n",
    "!jupyter contrib nbextension install --user"
   ]
  },
  {
   "cell_type": "code",
   "execution_count": null,
   "id": "051b9306",
   "metadata": {},
   "outputs": [],
   "source": [
    "# Voir les liens\n",
    "# https://jupyter-contrib-nbextensions.readthedocs.io/en/latest/install.html\n",
    "# https://towardsdatascience.com/kepler-gl-jupyter-notebooks-geospatial-data-visualization-with-ubers-opensource-kepler-gl-b1c2423d066f\n",
    "\n",
    "!jupyter contrib nbextension install --py --sys-prefix keplergl"
   ]
  },
  {
   "cell_type": "code",
   "execution_count": null,
   "id": "9cfecc47",
   "metadata": {},
   "outputs": [],
   "source": [
    "from keplergl import KeplerGl\n",
    "map_1 = KeplerGl()\n",
    "map_1"
   ]
  },
  {
   "cell_type": "code",
   "execution_count": null,
   "id": "fb745db6",
   "metadata": {},
   "outputs": [],
   "source": [
    "type(Data_ISO)"
   ]
  },
  {
   "cell_type": "code",
   "execution_count": null,
   "id": "7b2fbc44",
   "metadata": {},
   "outputs": [],
   "source": [
    "# from shapely import wkt\n",
    "\n",
    "# Data_ISO['geometry']= gpd.GeoSeries.from_wkt(Data_ISO['geometry'])\n",
    "\n",
    "# Voir le site: https://geopandas.org/en/stable/gallery/create_geopandas_from_pandas.html\n",
    "\n",
    "Data_ISO_gdf = gpd.GeoDataFrame(Data_ISO, geometry='geometry')"
   ]
  },
  {
   "cell_type": "code",
   "execution_count": null,
   "id": "28ae1cb0",
   "metadata": {},
   "outputs": [],
   "source": [
    "type(Data_ISO_gdf)"
   ]
  },
  {
   "cell_type": "code",
   "execution_count": null,
   "id": "669d70a6",
   "metadata": {},
   "outputs": [],
   "source": [
    "type(Data_ISO_gdf['geometry'])"
   ]
  },
  {
   "cell_type": "code",
   "execution_count": null,
   "id": "50228f58",
   "metadata": {},
   "outputs": [],
   "source": [
    "map_1.add_data(data=Data_ISO_gdf, name='Data_ISO')"
   ]
  },
  {
   "cell_type": "code",
   "execution_count": null,
   "id": "86a9b320",
   "metadata": {},
   "outputs": [],
   "source": [
    "map_1.save_to_html(file_name='Map_BAS_RHIN.html')"
   ]
  },
  {
   "cell_type": "code",
   "execution_count": null,
   "id": "271bc24d",
   "metadata": {},
   "outputs": [],
   "source": [
    "Data_ISO_gdf.to_csv(\"Data_TRI_BAS_RHIN.csv\")"
   ]
  },
  {
   "cell_type": "markdown",
   "id": "b1cb2950",
   "metadata": {},
   "source": [
    "### Folium"
   ]
  },
  {
   "cell_type": "code",
   "execution_count": null,
   "id": "dc24ccee",
   "metadata": {},
   "outputs": [],
   "source": [
    "# Exporting the data frame Data_ISO_gdf and others to a json file in local folders\n",
    "\n",
    "Data_ISO_gdf.to_file('Data_ISO_gdf.json', driver=\"GeoJSON\")\n",
    "\n",
    "# TRI Databases\n",
    "Data_ISO_gdf_Dec.to_file('Data_ISO_gdf_Dec.json', driver=\"GeoJSON\")\n",
    "Data_ISO_gdf_Cent.to_file('Data_ISO_gdf_Cent.json', driver=\"GeoJSON\")\n",
    "Data_ISO_gdf_Mill.to_file('Data_ISO_gdf_Mill.json', driver=\"GeoJSON\")\n",
    "\n",
    "# PPRN Databases\n",
    "zone_pprn_Zone_rouge.to_file('zone_pprn_Zone_rouge.json', driver=\"GeoJSON\")\n",
    "zone_pprn_B1.to_file('zone_pprn_B1.json', driver=\"GeoJSON\")\n",
    "zone_pprn_B2.to_file('zone_pprn_B2.json', driver=\"GeoJSON\")\n",
    "zone_pprn_ZBH.to_file('zone_pprn_ZBH.json', driver=\"GeoJSON\")\n",
    "zone_pprn_ZH.to_file('zone_pprn_ZH.json', driver=\"GeoJSON\")\n",
    "zone_pprn_NR.to_file('zone_pprn_NR.json', driver=\"GeoJSON\")\n",
    "zone_pprn_Alea_exceptionnel.to_file('zone_pprn_Alea_exceptionnel.json', driver=\"GeoJSON\")\n",
    "zone_pprn_B3.to_file('zone_pprn_B3.json', driver=\"GeoJSON\")\n",
    "zone_pprn_R1.to_file('zone_pprn_R1.json', driver=\"GeoJSON\")\n",
    "zone_pprn_R2.to_file('zone_pprn_R2.json', driver=\"GeoJSON\")"
   ]
  },
  {
   "cell_type": "code",
   "execution_count": null,
   "id": "40340f44",
   "metadata": {},
   "outputs": [],
   "source": [
    "# Loading the json file that has been exported\n",
    "\n",
    "import json\n",
    "\n",
    "# TRI Databases\n",
    "Data = json.load(open('Data_ISO_gdf.json','r'))\n",
    "Data_Dec = json.load(open('Data_ISO_gdf_Dec.json','r'))\n",
    "Data_Cent = json.load(open('Data_ISO_gdf_Cent.json','r'))\n",
    "Data_Mill = json.load(open('Data_ISO_gdf_Mill.json','r'))\n",
    "\n",
    "\n",
    "# PPRN Databases\n",
    "Data_Zone_rouge = json.load(open('zone_pprn_Zone_rouge.json','r'))\n",
    "Data_B2 = json.load(open('zone_pprn_B2.json','r'))\n",
    "Data_ZBH = json.load(open('zone_pprn_ZBH.json','r'))\n",
    "Data_Zone_1 = json.load(open('zone_pprn_Zone_1.json','r'))\n",
    "Data_B1 = json.load(open('zone_pprn_B1.json','r'))\n",
    "Data_R1 = json.load(open('zone_pprn_R1.json','r'))\n",
    "Data_R2 = json.load(open('zone_pprn_R2.json','r'))\n",
    "Data_Zone_2 = json.load(open('zone_pprn_Zone_2.json','r'))\n",
    "Data_Alea_exceptionnel = json.load(open('zone_pprn_Alea_exceptionnel.json','r'))\n",
    "Data_B3 = json.load(open('zone_pprn_B3.json','r'))\n",
    "Data_ZH = json.load(open('zone_pprn_ZH.json','r'))\n",
    "Data_NR = json.load(open('zone_pprn_NR.json','r'))"
   ]
  },
  {
   "cell_type": "code",
   "execution_count": null,
   "id": "323f50bc",
   "metadata": {},
   "outputs": [],
   "source": [
    "# Creating new keys 'uuid' and 'scenario' in the json file\n",
    "# Only for the files Data, Data_Dec, Data_Cent, Data_Mill.\n",
    "\n",
    "\n",
    "for feature in Data['features']:\n",
    "    feature['uuid'] = feature['properties']['uuid']  \n",
    "    feature['scenario'] = feature['properties']['scenario_2']\n",
    "\n",
    "    \n",
    "\n",
    "for feature_Dec in Data_Dec['features']:\n",
    "    feature_Dec['uuid'] = feature_Dec['properties']['uuid']  \n",
    "    feature_Dec['scenario'] = feature_Dec['properties']['scenario_2']\n",
    "    \n",
    "for feature_Cent in Data_Cent['features']:\n",
    "    feature_Cent['uuid'] = feature_Cent['properties']['uuid']  \n",
    "    feature_Cent['scenario'] = feature_Cent['properties']['scenario_2']\n",
    "\n",
    "for feature_Mill in Data_Mill['features']:\n",
    "    feature_Mill['uuid'] = feature_Mill['properties']['uuid']  \n",
    "    feature_Mill['scenario'] = feature_Mill['properties']['scenario_2']"
   ]
  },
  {
   "cell_type": "code",
   "execution_count": null,
   "id": "4d4e1758",
   "metadata": {},
   "outputs": [],
   "source": [
    "Data_Dec['features'][0].keys()"
   ]
  },
  {
   "cell_type": "code",
   "execution_count": null,
   "id": "54b2b0ff",
   "metadata": {},
   "outputs": [],
   "source": [
    "Data_Cent['features'][0].keys()"
   ]
  },
  {
   "cell_type": "code",
   "execution_count": null,
   "id": "f9d370dd",
   "metadata": {},
   "outputs": [],
   "source": [
    "Data_Mill['features'][0].keys()"
   ]
  },
  {
   "cell_type": "markdown",
   "id": "92b6f4a9",
   "metadata": {},
   "source": [
    "#### Choropleth (TRI: Scénarios Décénal, Centenal et Millénal)"
   ]
  },
  {
   "cell_type": "code",
   "execution_count": null,
   "id": "9a5b0409",
   "metadata": {},
   "outputs": [],
   "source": [
    "# creating a folium map centered around the city of Strasbourg\n",
    "\n",
    "import folium\n",
    "\n",
    "m = folium.Map(location=[43.124228, 5.928], tiles=\"Stamen Terrain\", zoom_start=12)\n",
    "m"
   ]
  },
  {
   "cell_type": "code",
   "execution_count": null,
   "id": "aae9598d",
   "metadata": {},
   "outputs": [],
   "source": [
    "# Adding colored zones depending on the flood risk level\n",
    "\n",
    "c = folium.Choropleth(\n",
    "        geo_data=Data,\n",
    "        data=Data_ISO_gdf,\n",
    "        columns=[\"uuid\", \"scenario_2\"],\n",
    "        key_on=\"feature.uuid\",\n",
    "        fill_color=\"\",\n",
    "        fill_opacity=0.8,\n",
    "        line_opacity=1,\n",
    "        name=\"Décénale\",\n",
    "    )\n",
    "\n",
    "# Remove the legend at the top right corner\n",
    "# https://www.roelpeters.be/remove-the-legend-in-a-folium-choropleth-map/\n",
    "\n",
    "for key in c._children:\n",
    "    if key.startswith('color_map'):\n",
    "        del(c._children[key])\n",
    "\n",
    "        \n",
    "# and finally adding a tooltip/hover to the choropleth's geojson\n",
    "folium.GeoJsonTooltip(['ht_min', 'ht_max', 'uuid']).add_to(c.geojson)\n",
    "    \n",
    "    \n",
    "c.add_to(m)\n",
    "\n",
    "\n",
    "\n",
    "folium.LayerControl().add_to(m)\n",
    "\n",
    "# Pour choisir les codes couleurs penser à taper \"ColorBrewer Code\" comme mot clé sur Google.\n",
    "#folium.LayerControl().add_to(m)"
   ]
  },
  {
   "cell_type": "code",
   "execution_count": null,
   "id": "6f3b2d15",
   "metadata": {},
   "outputs": [],
   "source": [
    "# c.geojson.data['features']\n",
    "\n",
    "# c.geojson"
   ]
  },
  {
   "cell_type": "code",
   "execution_count": null,
   "id": "fabc84d0",
   "metadata": {},
   "outputs": [],
   "source": [
    "# Voir le site https://towardsdatascience.com/how-to-step-up-your-folium-choropleth-map-skills-17cf6de7c6fe\n",
    "# pour des explications sur cette partie avec du code HTML\n",
    "\n",
    "# We import the required library:\n",
    "from branca.element import Template, MacroElement\n",
    "\n",
    "template = \"\"\"\n",
    "{% macro html(this, kwargs) %}\n",
    "\n",
    "<!doctype html>\n",
    "<html lang=\"en\">\n",
    "<head>\n",
    "  <meta charset=\"utf-8\">\n",
    "  <meta name=\"viewport\" content=\"width=device-width, initial-scale=1\">\n",
    "  <title>jQuery UI Draggable - Default functionality</title>\n",
    "  <link rel=\"stylesheet\" href=\"//code.jquery.com/ui/1.12.1/themes/base/jquery-ui.css\">\n",
    "\n",
    "  <script src=\"https://code.jquery.com/jquery-1.12.4.js\"></script>\n",
    "  <script src=\"https://code.jquery.com/ui/1.12.1/jquery-ui.js\"></script>\n",
    "  \n",
    "  <script>\n",
    "  $( function() {\n",
    "    $( \"#maplegend\" ).draggable({\n",
    "                    start: function (event, ui) {\n",
    "                        $(this).css({\n",
    "                            right: \"auto\",\n",
    "                            top: \"auto\",\n",
    "                            bottom: \"auto\"\n",
    "                        });\n",
    "                    }\n",
    "                });\n",
    "});\n",
    "\n",
    "  </script>\n",
    "</head>\n",
    "<body>\n",
    "\n",
    " \n",
    "<div id='maplegend' class='maplegend' \n",
    "    style='position: absolute; z-index:9999; border:2px solid grey; background-color:rgba(255, 255, 255, 0.8);\n",
    "     border-radius:6px; padding: 10px; font-size:14px; right: 20px; bottom: 20px;'>\n",
    "     \n",
    "<div class='legend-title'>Périodes de retour</div>\n",
    "<div class='legend-scale'>\n",
    "  <ul class='legend-labels'>\n",
    "    <li><span style='background:#06519A;opacity:1;'></span>1000 ans.</li>\n",
    "    <li><span style='background:#6AAED4;opacity:1;'></span>100 ans.</li>\n",
    "    <li><span style='background:#EFF3FF;opacity:1;'></span>10 ans.</li>\n",
    "    \n",
    "\n",
    "  </ul>\n",
    "</div>\n",
    "</div>\n",
    " \n",
    "</body>\n",
    "</html>\n",
    "\n",
    "<style type='text/css'>\n",
    "  .maplegend .legend-title {\n",
    "    text-align: left;\n",
    "    margin-bottom: 5px;\n",
    "    font-weight: bold;\n",
    "    font-size: 90%;\n",
    "    }\n",
    "  .maplegend .legend-scale ul {\n",
    "    margin: 0;\n",
    "    margin-bottom: 5px;\n",
    "    padding: 0;\n",
    "    float: left;\n",
    "    list-style: none;\n",
    "    }\n",
    "  .maplegend .legend-scale ul li {\n",
    "    font-size: 80%;\n",
    "    list-style: none;\n",
    "    margin-left: 0;\n",
    "    line-height: 18px;\n",
    "    margin-bottom: 2px;\n",
    "    }\n",
    "  .maplegend ul.legend-labels li span {\n",
    "    display: block;\n",
    "    float: left;\n",
    "    height: 16px;\n",
    "    width: 30px;\n",
    "    margin-right: 5px;\n",
    "    margin-left: 0;\n",
    "    border: 1px solid #999;\n",
    "    }\n",
    "  .maplegend .legend-source {\n",
    "    font-size: 80%;\n",
    "    color: #777;\n",
    "    clear: both;\n",
    "    }\n",
    "  .maplegend a {\n",
    "    color: #777;\n",
    "    }\n",
    "</style>\n",
    "{% endmacro %}\"\"\"\n",
    "\n",
    "macro = MacroElement()\n",
    "macro._template = Template(template)\n",
    "\n",
    "m.get_root().add_child(macro)\n",
    "\n",
    "m"
   ]
  },
  {
   "cell_type": "code",
   "execution_count": null,
   "id": "40e02663",
   "metadata": {},
   "outputs": [],
   "source": [
    "# Exporting the map in HTML format\n",
    "\n",
    "m.save(\"Carte_Inondations_Toulon_Choropleth.html\")"
   ]
  },
  {
   "cell_type": "code",
   "execution_count": null,
   "id": "f4e10493",
   "metadata": {},
   "outputs": [],
   "source": [
    "# iso_ht_01_Moyen"
   ]
  },
  {
   "cell_type": "markdown",
   "id": "cbd9a64e",
   "metadata": {},
   "source": [
    "#### GeoJson (TRI: Scénarios Décénal, Centenal et Millénal + PPRN)"
   ]
  },
  {
   "cell_type": "code",
   "execution_count": null,
   "id": "9d1b6606",
   "metadata": {},
   "outputs": [],
   "source": [
    "import folium\n",
    "\n",
    "m = folium.Map(location=[43.124228, 5.928], tiles=\"Stamen Terrain\", zoom_start=12)\n",
    "\n",
    "\n",
    "\n",
    "c_10_bordersStyle = {\n",
    "    'color': 'black',\n",
    "    'weight': 1,\n",
    "    'fillColor': '#EFF3FF',\n",
    "    'fillOpacity': 0.7\n",
    "}\n",
    "\n",
    "c_10 = folium.GeoJson(\n",
    "    data=(open(\"Data_ISO_gdf_Dec.json\", 'r').read()),\n",
    "    name=\"Décénale\",\n",
    "    style_function=lambda x: c_10_bordersStyle)\n",
    "\n",
    "c_10.add_to(m)\n",
    "\n",
    "\n",
    "\n",
    "c_100_bordersStyle = {\n",
    "    'color': 'black',\n",
    "    'weight': 1,\n",
    "    'fillColor': '#6AAED4',\n",
    "    'fillOpacity': 0.7\n",
    "}\n",
    "\n",
    "c_100 = folium.GeoJson(\n",
    "    data=(open(\"Data_ISO_gdf_Cent.json\", 'r').read()),\n",
    "    name=\"Centenale\",\n",
    "    style_function=lambda x: c_100_bordersStyle)\n",
    "\n",
    "c_100.add_to(m)\n",
    "\n",
    "\n",
    "\n",
    "c_1000_bordersStyle = {\n",
    "    'color': 'black',\n",
    "    'weight': 1,\n",
    "    'fillColor': '#06519A',\n",
    "    'fillOpacity': 0.7\n",
    "}\n",
    "\n",
    "c_1000 = folium.GeoJson(\n",
    "    data=(open(\"Data_ISO_gdf_Mill.json\", 'r').read()),\n",
    "    name=\"Millénale\",\n",
    "    style_function=lambda x: c_1000_bordersStyle)\n",
    "\n",
    "c_1000.add_to(m)\n",
    "\n",
    "\n",
    "\n",
    "c_pprn_Zone_rouge_bordersStyle = {\n",
    "    'color': 'black',\n",
    "    'weight': 1,\n",
    "    'fillColor': '#BB0B0B',\n",
    "    'fillOpacity': 0.7\n",
    "}\n",
    "\n",
    "c_pprn_Zone_rouge = folium.GeoJson(\n",
    "    data=Data_Zone_rouge,\n",
    "    name=\"PPRN ZONE ROUGE\",\n",
    "    style_function=lambda x: c_pprn_Zone_rouge_bordersStyle)\n",
    "\n",
    "c_pprn_Zone_rouge.add_to(m)\n",
    "\n",
    "\n",
    "\n",
    "c_pprn_B2_bordersStyle = {\n",
    "    'color': 'black',\n",
    "    'weight': 1,\n",
    "    'fillColor': '#008000',\n",
    "    'fillOpacity': 0.7\n",
    "}\n",
    "\n",
    "c_pprn_B2 = folium.GeoJson(\n",
    "    data=Data_B2,\n",
    "    name=\"PPRN B2\",\n",
    "    style_function=lambda x: c_pprn_B2_bordersStyle)\n",
    "\n",
    "c_pprn_B2.add_to(m)\n",
    "\n",
    "\n",
    "\n",
    "c_pprn_ZBH_bordersStyle = {\n",
    "    'color': 'black',\n",
    "    'weight': 1,\n",
    "    'fillColor': '#5DADE2',\n",
    "    'fillOpacity': 0.7\n",
    "}\n",
    "\n",
    "c_pprn_ZBH = folium.GeoJson(\n",
    "    data=Data_ZBH,\n",
    "    name=\"PPRN ZBH\",\n",
    "    style_function=lambda x: c_pprn_ZBH_bordersStyle)\n",
    "\n",
    "c_pprn_ZBH.add_to(m)\n",
    "\n",
    "\n",
    "\n",
    "\n",
    "\n",
    "c_pprn_B1_bordersStyle = {\n",
    "    'color': 'black',\n",
    "    'weight': 1,\n",
    "    'fillColor': '#2874A6',\n",
    "    'fillOpacity': 0.7\n",
    "}\n",
    "\n",
    "c_pprn_B1 = folium.GeoJson(\n",
    "    data=Data_B1,\n",
    "    name=\"PPRN B1\",\n",
    "    style_function=lambda x: c_pprn_B1_bordersStyle)\n",
    "\n",
    "c_pprn_B1.add_to(m)\n",
    "\n",
    "\n",
    "\n",
    "c_pprn_R1_bordersStyle = {\n",
    "    'color': 'black',\n",
    "    'weight': 1,\n",
    "    'fillColor': '#922B21',\n",
    "    'fillOpacity': 0.7\n",
    "}\n",
    "\n",
    "c_pprn_R1 = folium.GeoJson(\n",
    "    data=Data_R1,\n",
    "    name=\"PPRN R1\",\n",
    "    style_function=lambda x: c_pprn_R1_bordersStyle)\n",
    "\n",
    "c_pprn_R1.add_to(m)\n",
    "\n",
    "\n",
    "\n",
    "c_pprn_R2_bordersStyle = {\n",
    "    'color': 'black',\n",
    "    'weight': 1,\n",
    "    'fillColor': '#EC7063',\n",
    "    'fillOpacity': 0.7\n",
    "}\n",
    "\n",
    "c_pprn_R2 = folium.GeoJson(\n",
    "    data=Data_R2,\n",
    "    name=\"PPRN R2\",\n",
    "    style_function=lambda x: c_pprn_R2_bordersStyle)\n",
    "\n",
    "c_pprn_R2.add_to(m)\n",
    "\n",
    "\n",
    "\n",
    "\n",
    "c_pprn_Alea_exceptionnel_bordersStyle = {\n",
    "    'color': 'black',\n",
    "    'weight': 1,\n",
    "    'fillColor': '#2ECC71',\n",
    "    'fillOpacity': 0.7\n",
    "}\n",
    "\n",
    "c_pprn_Alea_exceptionnel = folium.GeoJson(\n",
    "    data=Data_Alea_exceptionnel,\n",
    "    name=\"PPRN Alea Exceptionnel\",\n",
    "    style_function=lambda x: c_pprn_Alea_exceptionnel_bordersStyle)\n",
    "\n",
    "c_pprn_Alea_exceptionnel.add_to(m)\n",
    "\n",
    "\n",
    "\n",
    "c_pprn_B3_bordersStyle = {\n",
    "    'color': 'black',\n",
    "    'weight': 1,\n",
    "    'fillColor': '#AED6F1',\n",
    "    'fillOpacity': 0.7\n",
    "}\n",
    "\n",
    "c_pprn_B3 = folium.GeoJson(\n",
    "    data=Data_B3,\n",
    "    name=\"PPRN B3\",\n",
    "    style_function=lambda x: c_pprn_B3_bordersStyle)\n",
    "\n",
    "c_pprn_B3.add_to(m)\n",
    "\n",
    "\n",
    "\n",
    "c_pprn_ZH_bordersStyle = {\n",
    "    'color': 'black',\n",
    "    'weight': 1,\n",
    "    'fillColor': '#F8C471',\n",
    "    'fillOpacity': 0.7\n",
    "}\n",
    "\n",
    "c_pprn_ZH = folium.GeoJson(\n",
    "    data=Data_ZH,\n",
    "    name=\"PPRN ZH\",\n",
    "    style_function=lambda x: c_pprn_ZH_bordersStyle)\n",
    "\n",
    "c_pprn_ZH.add_to(m)\n",
    "\n",
    "\n",
    "\n",
    "c_pprn_NR_bordersStyle = {\n",
    "    'color': 'black',\n",
    "    'weight': 1,\n",
    "    'fillColor': '#13EFF3',\n",
    "    'fillOpacity': 0.7\n",
    "}\n",
    "\n",
    "c_pprn_NR = folium.GeoJson(\n",
    "    data=Data_NR,\n",
    "    name=\"PPRN NR\",\n",
    "    style_function=lambda x: c_pprn_NR_bordersStyle)\n",
    "\n",
    "c_pprn_NR.add_to(m)\n",
    "\n",
    "\n",
    "\n",
    "\n",
    "\n",
    "# and finally adding a tooltip/hover to the geojson file\n",
    "folium.GeoJsonTooltip(['ht_min', 'ht_max', 'uuid', 'cours_deau']).add_to(c_10)\n",
    "\n",
    "# and finally adding a tooltip/hover to the geojson file\n",
    "folium.GeoJsonTooltip(['ht_min', 'ht_max', 'uuid', 'cours_deau']).add_to(c_100)\n",
    "\n",
    "# and finally adding a tooltip/hover to the geojson file\n",
    "folium.GeoJsonTooltip(['ht_min', 'ht_max', 'uuid', 'cours_deau']).add_to(c_1000)\n",
    "\n",
    "\n",
    "\n",
    "# and finally adding a tooltip/hover to the geojson file\n",
    "folium.GeoJsonTooltip(['codezone','lib_risque','id_zone']).add_to(c_pprn_Zone_rouge)\n",
    "\n",
    "# and finally adding a tooltip/hover to the geojson file\n",
    "folium.GeoJsonTooltip(['codezone','lib_risque','id_zone']).add_to(c_pprn_B2)\n",
    "\n",
    "# and finally adding a tooltip/hover to the geojson file\n",
    "folium.GeoJsonTooltip(['codezone','lib_risque','id_zone']).add_to(c_pprn_ZBH)\n",
    "\n",
    "# and finally adding a tooltip/hover to the geojson file\n",
    "folium.GeoJsonTooltip(['codezone','lib_risque','id_zone']).add_to(c_pprn_B1)\n",
    "\n",
    "# and finally adding a tooltip/hover to the geojson file\n",
    "folium.GeoJsonTooltip(['codezone','lib_risque','id_zone']).add_to(c_pprn_R1)\n",
    "\n",
    "# and finally adding a tooltip/hover to the geojson file\n",
    "folium.GeoJsonTooltip(['codezone','lib_risque','id_zone']).add_to(c_pprn_R2)\n",
    "\n",
    "# and finally adding a tooltip/hover to the geojson file\n",
    "folium.GeoJsonTooltip(['codezone','lib_risque','id_zone']).add_to(c_pprn_Alea_exceptionnel)\n",
    "\n",
    "# and finally adding a tooltip/hover to the geojson file\n",
    "folium.GeoJsonTooltip(['codezone','lib_risque','id_zone']).add_to(c_pprn_B3)\n",
    "\n",
    "# and finally adding a tooltip/hover to the geojson file\n",
    "folium.GeoJsonTooltip(['codezone','lib_risque','id_zone']).add_to(c_pprn_ZH)\n",
    "\n",
    "# and finally adding a tooltip/hover to the geojson file\n",
    "folium.GeoJsonTooltip(['codezone','lib_risque','id_zone']).add_to(c_pprn_NR)\n",
    "\n",
    "\n",
    "folium.LayerControl().add_to(m)"
   ]
  },
  {
   "cell_type": "code",
   "execution_count": null,
   "id": "f4d0d034",
   "metadata": {},
   "outputs": [],
   "source": [
    "# https://www.youtube.com/watch?v=h16O4xt6yBU\n",
    "\n",
    "# https://nagasudhir.blogspot.com/2021/07/draw-borders-from-geojson-paths-in.html"
   ]
  },
  {
   "cell_type": "code",
   "execution_count": null,
   "id": "e2dd9eae",
   "metadata": {},
   "outputs": [],
   "source": [
    "# Interactive map with layers selection:\n",
    "\n",
    "# https://kodu.ut.ee/~kmoch/geopython2019/L6/interactive-map-folium.html"
   ]
  },
  {
   "cell_type": "code",
   "execution_count": null,
   "id": "6abb2eff",
   "metadata": {},
   "outputs": [],
   "source": [
    "# https://stackoverflow.com/questions/55088688/how-do-you-add-geojsontooltip-to-folium-choropleth-class-in-folium"
   ]
  },
  {
   "cell_type": "code",
   "execution_count": null,
   "id": "4909958e",
   "metadata": {},
   "outputs": [],
   "source": [
    "# tooltip=folium.features.Tooltip(fields=['feature.properties.county_name'])"
   ]
  },
  {
   "cell_type": "code",
   "execution_count": null,
   "id": "224dd555",
   "metadata": {
    "scrolled": true
   },
   "outputs": [],
   "source": [
    "# Voir le site https://towardsdatascience.com/how-to-step-up-your-folium-choropleth-map-skills-17cf6de7c6fe\n",
    "# pour des explications sur cette partie avec du code HTML\n",
    "\n",
    "# We import the required library:\n",
    "from branca.element import Template, MacroElement\n",
    "\n",
    "template = \"\"\"\n",
    "{% macro html(this, kwargs) %}\n",
    "\n",
    "<!doctype html>\n",
    "<html lang=\"en\">\n",
    "<head>\n",
    "  <meta charset=\"utf-8\">\n",
    "  <meta name=\"viewport\" content=\"width=device-width, initial-scale=1\">\n",
    "  <title>jQuery UI Draggable - Default functionality</title>\n",
    "  <link rel=\"stylesheet\" href=\"//code.jquery.com/ui/1.12.1/themes/base/jquery-ui.css\">\n",
    "\n",
    "  <script src=\"https://code.jquery.com/jquery-1.12.4.js\"></script>\n",
    "  <script src=\"https://code.jquery.com/ui/1.12.1/jquery-ui.js\"></script>\n",
    "  \n",
    "  <script>\n",
    "  $( function() {\n",
    "    $( \"#maplegend\" ).draggable({\n",
    "                    start: function (event, ui) {\n",
    "                        $(this).css({\n",
    "                            right: \"auto\",\n",
    "                            top: \"auto\",\n",
    "                            bottom: \"auto\"\n",
    "                        });\n",
    "                    }\n",
    "                });\n",
    "});\n",
    "\n",
    "  </script>\n",
    "</head>\n",
    "<body>\n",
    "\n",
    " \n",
    "<div id='maplegend' class='maplegend' \n",
    "    style='position: absolute; z-index:9999; border:2px solid grey; background-color:rgba(255, 255, 255, 0.8);\n",
    "     border-radius:6px; padding: 10px; font-size:14px; right: 20px; bottom: 20px;'>\n",
    "     \n",
    "<div class='legend-title'>Périodes de retour (TRI)</div>\n",
    "<div class='legend-scale'>\n",
    "  <ul class='legend-labels'>\n",
    "    <li><span style='background:#06519A;opacity:1;'></span>1000 ans.</li>\n",
    "    <li><span style='background:#6AAED4;opacity:1;'></span>100 ans.</li>\n",
    "    <li><span style='background:#EFF3FF;opacity:1;'></span>10 ans.</li>\n",
    "  </ul>\n",
    "</div>\n",
    "</div>\n",
    "\n",
    "</body>\n",
    "</html>\n",
    "\n",
    "<style type='text/css'>\n",
    "  .maplegend .legend-title {\n",
    "    text-align: left;\n",
    "    margin-bottom: 5px;\n",
    "    font-weight: bold;\n",
    "    font-size: 90%;\n",
    "    }\n",
    "  .maplegend .legend-scale ul {\n",
    "    margin: 0;\n",
    "    margin-bottom: 5px;\n",
    "    padding: 0;\n",
    "    float: left;\n",
    "    list-style: none;\n",
    "    }\n",
    "  .maplegend .legend-scale ul li {\n",
    "    font-size: 80%;\n",
    "    list-style: none;\n",
    "    margin-left: 0;\n",
    "    line-height: 18px;\n",
    "    margin-bottom: 2px;\n",
    "    }\n",
    "  .maplegend ul.legend-labels li span {\n",
    "    display: block;\n",
    "    float: left;\n",
    "    height: 16px;\n",
    "    width: 30px;\n",
    "    margin-right: 5px;\n",
    "    margin-left: 0;\n",
    "    border: 1px solid #999;\n",
    "    }\n",
    "  .maplegend .legend-source {\n",
    "    font-size: 80%;\n",
    "    color: #777;\n",
    "    clear: both;\n",
    "    }\n",
    "  .maplegend a {\n",
    "    color: #777;\n",
    "    }\n",
    "</style>\n",
    "\n",
    "{% endmacro %}\"\"\"\n",
    "\n",
    "macro = MacroElement()\n",
    "macro._template = Template(template)\n",
    "\n",
    "m.get_root().add_child(macro)\n",
    "\n",
    "m"
   ]
  },
  {
   "cell_type": "code",
   "execution_count": null,
   "id": "ca410277",
   "metadata": {},
   "outputs": [],
   "source": [
    "# Exporting the map in HTML format\n",
    "\n",
    "m.save(\"Carte_Inondations_Toulon_Geojson.html\")"
   ]
  },
  {
   "cell_type": "code",
   "execution_count": null,
   "id": "bf55d9e6",
   "metadata": {},
   "outputs": [],
   "source": [
    "# https://www.youtube.com/watch?v=h16O4xt6yBU\n",
    "\n",
    "# https://nagasudhir.blogspot.com/2021/07/draw-borders-from-geojson-paths-in.html"
   ]
  },
  {
   "cell_type": "code",
   "execution_count": null,
   "id": "83aa5e28",
   "metadata": {},
   "outputs": [],
   "source": [
    "# Interactive map with layers selection:\n",
    "\n",
    "# https://kodu.ut.ee/~kmoch/geopython2019/L6/interactive-map-folium.html"
   ]
  },
  {
   "cell_type": "code",
   "execution_count": null,
   "id": "3ee9e30a",
   "metadata": {},
   "outputs": [],
   "source": [
    "# https://stackoverflow.com/questions/55088688/how-do-you-add-geojsontooltip-to-folium-choropleth-class-in-folium"
   ]
  },
  {
   "cell_type": "code",
   "execution_count": null,
   "id": "447b071f",
   "metadata": {},
   "outputs": [],
   "source": [
    "# tooltip=folium.features.Tooltip(fields=['feature.properties.county_name'])"
   ]
  },
  {
   "cell_type": "code",
   "execution_count": null,
   "id": "7107090a",
   "metadata": {},
   "outputs": [],
   "source": [
    "# https://automating-gis-processes.github.io/CSC18/lessons/L4/point-in-polygon.html#reading-kml-files-in-geopandas"
   ]
  },
  {
   "cell_type": "code",
   "execution_count": null,
   "id": "878de91e",
   "metadata": {},
   "outputs": [],
   "source": [
    "def type_a(a):\n",
    "    return str(type(a))"
   ]
  },
  {
   "cell_type": "code",
   "execution_count": null,
   "id": "467c831a",
   "metadata": {},
   "outputs": [],
   "source": [
    "Data_ISO_gdf_Cent[\"Geometry Type\"] = list(map(type_a,Data_ISO_gdf_Cent[\"geometry\"]))"
   ]
  },
  {
   "cell_type": "code",
   "execution_count": null,
   "id": "5dcf1cac",
   "metadata": {},
   "outputs": [],
   "source": [
    "Data_ISO_gdf_Cent.head()"
   ]
  },
  {
   "cell_type": "code",
   "execution_count": null,
   "id": "bed79fe3",
   "metadata": {},
   "outputs": [],
   "source": [
    "Data_ISO_gdf_Cent[\"Geometry Type\"].unique()"
   ]
  },
  {
   "cell_type": "code",
   "execution_count": null,
   "id": "6c226728",
   "metadata": {},
   "outputs": [],
   "source": [
    "Data_ISO_gdf_Cent.loc[Data_ISO_gdf_Cent[\"Geometry Type\"]==\"<class 'shapely.geometry.multipolygon.MultiPolygon'>\",]"
   ]
  },
  {
   "cell_type": "code",
   "execution_count": null,
   "id": "15ae6f20",
   "metadata": {},
   "outputs": [],
   "source": [
    "for i in Data_ISO_gdf_Cent.loc[[3253],\"geometry\"]:\n",
    "    print(i)"
   ]
  },
  {
   "cell_type": "code",
   "execution_count": null,
   "id": "116e7a13",
   "metadata": {},
   "outputs": [],
   "source": [
    "list(Data_ISO_gdf_Cent.loc[[3253],\"geometry\"].geoms)"
   ]
  },
  {
   "cell_type": "code",
   "execution_count": null,
   "id": "852aa799",
   "metadata": {},
   "outputs": [],
   "source": [
    "type(Data_ISO_gdf_Cent.loc[[3253],\"geometry\"])"
   ]
  },
  {
   "cell_type": "code",
   "execution_count": null,
   "id": "9bdc3b13",
   "metadata": {},
   "outputs": [],
   "source": [
    "from shapely import Polygon\n",
    "ob = gpd.geoseries(MultiPolygon([\n",
    "    (\n",
    "    ((0.0, 0.0), (0.0, 1.0), (1.0, 1.0), (1.0, 0.0)),\n",
    "    [((0.1,0.1), (0.1,0.2), (0.2,0.2), (0.2,0.1))]\n",
    "    )\n",
    "]))"
   ]
  },
  {
   "cell_type": "code",
   "execution_count": null,
   "id": "b0c36014",
   "metadata": {},
   "outputs": [],
   "source": [
    "type(ob)"
   ]
  },
  {
   "cell_type": "code",
   "execution_count": null,
   "id": "a5d2b669",
   "metadata": {},
   "outputs": [],
   "source": [
    "from shapely import Polygon, MultiPolygon\n",
    "ob = MultiPolygon(list(Data_ISO_gdf_Cent.loc[[3253],\"geometry\"]))\n",
    "len(ob.geoms)\n",
    "1\n",
    "type(ob.geoms[0]) == Polygon"
   ]
  },
  {
   "cell_type": "code",
   "execution_count": null,
   "id": "36ea0def",
   "metadata": {},
   "outputs": [],
   "source": [
    "Data_ISO_gdf_Cent.loc[[3253,3256,6518],].explode()"
   ]
  },
  {
   "cell_type": "code",
   "execution_count": null,
   "id": "024e8e87",
   "metadata": {},
   "outputs": [],
   "source": [
    "type(Data_ISO_gdf_Cent.loc[[3256],\"geometry\"].geometry.iloc[0])"
   ]
  },
  {
   "cell_type": "code",
   "execution_count": null,
   "id": "f2f63ddc",
   "metadata": {},
   "outputs": [],
   "source": [
    "liste = [i for i in Data_ISO_gdf_Cent.loc[[3253],\"geometry\"]]\n",
    "df.geometry.iloc[0]"
   ]
  },
  {
   "cell_type": "code",
   "execution_count": null,
   "id": "e4527b2b",
   "metadata": {},
   "outputs": [],
   "source": [
    "liste"
   ]
  },
  {
   "cell_type": "code",
   "execution_count": null,
   "id": "f1264c65",
   "metadata": {},
   "outputs": [],
   "source": []
  },
  {
   "cell_type": "code",
   "execution_count": null,
   "id": "b73b8800",
   "metadata": {},
   "outputs": [],
   "source": []
  },
  {
   "cell_type": "code",
   "execution_count": null,
   "id": "42d8ec62",
   "metadata": {},
   "outputs": [],
   "source": [
    "def extract_coordinates(Polygon):\n",
    "    if Polygon.geom_type == 'Polygon':\n",
    "        x,y = Polygon.exterior.coords.xy\n",
    "        # return np.dstack(np.array([x.tolist(),y.tolist()]))\n",
    "        return np.array([x.tolist(),y.tolist()]).transpose()\n",
    "    else:\n",
    "        return list(map(extract_coordinates,list(Polygon)))"
   ]
  },
  {
   "cell_type": "code",
   "execution_count": null,
   "id": "e1dd4266",
   "metadata": {},
   "outputs": [],
   "source": [
    "def extract_multipolygon(liste):\n",
    "    liste2 = []\n",
    "    for i in liste:\n",
    "        liste2.append(i)\n",
    "    return liste2"
   ]
  },
  {
   "cell_type": "code",
   "execution_count": null,
   "id": "1132d382",
   "metadata": {},
   "outputs": [],
   "source": [
    "Data_ISO_gdf_Cent.explode()"
   ]
  },
  {
   "cell_type": "code",
   "execution_count": null,
   "id": "c05bb249",
   "metadata": {},
   "outputs": [],
   "source": [
    "Data_ISO_gdf_Cent.loc[[3253],]"
   ]
  },
  {
   "cell_type": "code",
   "execution_count": null,
   "id": "58e66702",
   "metadata": {},
   "outputs": [],
   "source": [
    "Data_ISO_gdf_Cent.loc[type(Data_ISO_gdf_Cent[\"geometry\"])==]"
   ]
  },
  {
   "cell_type": "code",
   "execution_count": null,
   "id": "d31c7d31",
   "metadata": {},
   "outputs": [],
   "source": [
    "Data_ISO_gdf_Cent[\"geometry\"]"
   ]
  },
  {
   "cell_type": "code",
   "execution_count": null,
   "id": "6cf01988",
   "metadata": {},
   "outputs": [],
   "source": [
    "# https://stackoverflow.com/questions/64099107/convert-multipolygon-geometry-into-list"
   ]
  },
  {
   "cell_type": "code",
   "execution_count": null,
   "id": "ed3ce6c6",
   "metadata": {},
   "outputs": [],
   "source": [
    "def type_a(a):\n",
    "    return type(a)"
   ]
  },
  {
   "cell_type": "code",
   "execution_count": null,
   "id": "aa809ab2",
   "metadata": {},
   "outputs": [],
   "source": [
    "list(map(type_a,Data_ISO_gdf_Cent[\"geometry\"]))"
   ]
  },
  {
   "cell_type": "code",
   "execution_count": null,
   "id": "b3bb33b1",
   "metadata": {},
   "outputs": [],
   "source": [
    "import pandas as pd\n",
    "Data = pd.DataFrame({\"type\":list(map(type_a,Data_ISO_gdf_Cent[\"geometry\"]))})"
   ]
  },
  {
   "cell_type": "code",
   "execution_count": null,
   "id": "1f7d3ba3",
   "metadata": {},
   "outputs": [],
   "source": [
    "Data.head()"
   ]
  },
  {
   "cell_type": "code",
   "execution_count": null,
   "id": "600d0201",
   "metadata": {},
   "outputs": [],
   "source": []
  },
  {
   "cell_type": "code",
   "execution_count": null,
   "id": "67632214",
   "metadata": {},
   "outputs": [],
   "source": []
  },
  {
   "cell_type": "code",
   "execution_count": null,
   "id": "be670a50",
   "metadata": {},
   "outputs": [],
   "source": []
  },
  {
   "cell_type": "code",
   "execution_count": null,
   "id": "ff0f08b5",
   "metadata": {},
   "outputs": [],
   "source": []
  },
  {
   "cell_type": "code",
   "execution_count": null,
   "id": "b20d410a",
   "metadata": {},
   "outputs": [],
   "source": [
    "Data[\"type\"].unique()"
   ]
  },
  {
   "cell_type": "code",
   "execution_count": null,
   "id": "d5f88daa",
   "metadata": {},
   "outputs": [],
   "source": [
    "Data_ISO_gdf_Cent[\"geometry\"].unique()"
   ]
  },
  {
   "cell_type": "code",
   "execution_count": null,
   "id": "f33ced72",
   "metadata": {},
   "outputs": [],
   "source": [
    "# https://gis.stackexchange.com/questions/287306/listing-all-polygon-vertices-coordinates-using-geopandas\n",
    "\n",
    "import numpy as np\n",
    "x,y = Data_ISO_gdf_Cent[\"geometry\"][0].exterior.coords.xy\n",
    "# np.dstack(np.array([x.tolist(),y.tolist()]))\n",
    "np.array([x.tolist(),y.tolist()]).transpose()"
   ]
  },
  {
   "cell_type": "code",
   "execution_count": null,
   "id": "7fc302fc",
   "metadata": {},
   "outputs": [],
   "source": [
    "np.array([x.tolist(),y.tolist()])"
   ]
  },
  {
   "cell_type": "code",
   "execution_count": null,
   "id": "a4cf32f8",
   "metadata": {},
   "outputs": [],
   "source": [
    "np.array([x.tolist(),y.tolist()]).transpose()"
   ]
  },
  {
   "cell_type": "code",
   "execution_count": null,
   "id": "941bff1f",
   "metadata": {},
   "outputs": [],
   "source": []
  },
  {
   "cell_type": "code",
   "execution_count": null,
   "id": "0b0e6479",
   "metadata": {},
   "outputs": [],
   "source": []
  },
  {
   "cell_type": "code",
   "execution_count": null,
   "id": "9956bb75",
   "metadata": {},
   "outputs": [],
   "source": []
  }
 ],
 "metadata": {
  "kernelspec": {
   "display_name": "Python 3 (ipykernel)",
   "language": "python",
   "name": "python3"
  },
  "language_info": {
   "codemirror_mode": {
    "name": "ipython",
    "version": 3
   },
   "file_extension": ".py",
   "mimetype": "text/x-python",
   "name": "python",
   "nbconvert_exporter": "python",
   "pygments_lexer": "ipython3",
   "version": "3.9.13"
  },
  "toc": {
   "base_numbering": 1,
   "nav_menu": {},
   "number_sections": true,
   "sideBar": true,
   "skip_h1_title": false,
   "title_cell": "Table of Contents",
   "title_sidebar": "Contents",
   "toc_cell": false,
   "toc_position": {
    "height": "calc(100% - 180px)",
    "left": "10px",
    "top": "150px",
    "width": "282.797px"
   },
   "toc_section_display": true,
   "toc_window_display": false
  }
 },
 "nbformat": 4,
 "nbformat_minor": 5
}
